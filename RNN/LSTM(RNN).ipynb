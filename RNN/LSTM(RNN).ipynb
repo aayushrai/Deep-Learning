{
  "nbformat": 4,
  "nbformat_minor": 0,
  "metadata": {
    "colab": {
      "name": "LSTM(RNN).ipynb",
      "provenance": [],
      "include_colab_link": true
    },
    "kernelspec": {
      "name": "python3",
      "display_name": "Python 3"
    },
    "accelerator": "GPU"
  },
  "cells": [
    {
      "cell_type": "markdown",
      "metadata": {
        "id": "view-in-github",
        "colab_type": "text"
      },
      "source": [
        "<a href=\"https://colab.research.google.com/github/aayushrai/Deep-Learning/blob/master/RNN/LSTM(RNN).ipynb\" target=\"_parent\"><img src=\"https://colab.research.google.com/assets/colab-badge.svg\" alt=\"Open In Colab\"/></a>"
      ]
    },
    {
      "cell_type": "code",
      "metadata": {
        "id": "ZGuYMCEd0M8i",
        "colab_type": "code",
        "colab": {
          "base_uri": "https://localhost:8080/",
          "height": 64
        },
        "outputId": "b5684fe3-6a42-4d17-a654-d06cf2eb1d20"
      },
      "source": [
        "#imports\n",
        "from tensorflow.keras.layers import Dense,LSTM\n",
        "from tensorflow.keras.models import Sequential\n",
        "import numpy as np\n",
        "from sklearn.model_selection import train_test_split\n",
        "import matplotlib.pyplot as plt"
      ],
      "execution_count": 1,
      "outputs": [
        {
          "output_type": "display_data",
          "data": {
            "text/html": [
              "<p style=\"color: red;\">\n",
              "The default version of TensorFlow in Colab will soon switch to TensorFlow 2.x.<br>\n",
              "We recommend you <a href=\"https://www.tensorflow.org/guide/migrate\" target=\"_blank\">upgrade</a> now \n",
              "or ensure your notebook will continue to use TensorFlow 1.x via the <code>%tensorflow_version 1.x</code> magic:\n",
              "<a href=\"https://colab.research.google.com/notebooks/tensorflow_version.ipynb\" target=\"_blank\">more info</a>.</p>\n"
            ],
            "text/plain": [
              "<IPython.core.display.HTML object>"
            ]
          },
          "metadata": {
            "tags": []
          }
        }
      ]
    },
    {
      "cell_type": "code",
      "metadata": {
        "id": "ISk-pKHX08SO",
        "colab_type": "code",
        "colab": {}
      },
      "source": [
        "# Generate data\n",
        "data = [[[i+j] for i in range(0,5)]for j in range(0,100)]\n",
        "target = [i+5 for i in range(0,100)]"
      ],
      "execution_count": 0,
      "outputs": []
    },
    {
      "cell_type": "code",
      "metadata": {
        "id": "vROlaKfg1MEo",
        "colab_type": "code",
        "colab": {}
      },
      "source": [
        "# convert list into numpy array\n",
        "data = np.array(data,np.float32)/255\n",
        "target = np.array(target,np.float32)/255"
      ],
      "execution_count": 0,
      "outputs": []
    },
    {
      "cell_type": "code",
      "metadata": {
        "id": "L4HE8vtb2dw0",
        "colab_type": "code",
        "colab": {
          "base_uri": "https://localhost:8080/",
          "height": 35
        },
        "outputId": "716b6c0d-2f84-4806-cdf0-ec782b5d30f3"
      },
      "source": [
        "data.shape"
      ],
      "execution_count": 4,
      "outputs": [
        {
          "output_type": "execute_result",
          "data": {
            "text/plain": [
              "(100, 5, 1)"
            ]
          },
          "metadata": {
            "tags": []
          },
          "execution_count": 4
        }
      ]
    },
    {
      "cell_type": "code",
      "metadata": {
        "id": "2LOhJTt427rC",
        "colab_type": "code",
        "colab": {}
      },
      "source": [
        "# split data for training and validation\n",
        "x_train,x_test,y_train,y_test = train_test_split(data,target,test_size =.2,random_state =4)"
      ],
      "execution_count": 0,
      "outputs": []
    },
    {
      "cell_type": "code",
      "metadata": {
        "id": "K3R26Tit1MvJ",
        "colab_type": "code",
        "colab": {
          "base_uri": "https://localhost:8080/",
          "height": 90
        },
        "outputId": "928d8ab1-8082-4c05-cd1c-6a8b95a772bc"
      },
      "source": [
        "#model\n",
        "model = Sequential()\n",
        "model.add(LSTM(1,input_shape=(5,1),return_sequences=True))\n",
        "model.add(LSTM(1,return_sequences=False))"
      ],
      "execution_count": 6,
      "outputs": [
        {
          "output_type": "stream",
          "text": [
            "WARNING:tensorflow:From /usr/local/lib/python3.6/dist-packages/tensorflow_core/python/ops/resource_variable_ops.py:1630: calling BaseResourceVariable.__init__ (from tensorflow.python.ops.resource_variable_ops) with constraint is deprecated and will be removed in a future version.\n",
            "Instructions for updating:\n",
            "If using Keras pass *_constraint arguments to layers.\n"
          ],
          "name": "stdout"
        }
      ]
    },
    {
      "cell_type": "code",
      "metadata": {
        "id": "Wn2epiYG8UqW",
        "colab_type": "code",
        "colab": {
          "base_uri": "https://localhost:8080/",
          "height": 230
        },
        "outputId": "aa3f1660-2b59-4389-d6b7-2d1374e1e6aa"
      },
      "source": [
        "model.summary()"
      ],
      "execution_count": 7,
      "outputs": [
        {
          "output_type": "stream",
          "text": [
            "Model: \"sequential\"\n",
            "_________________________________________________________________\n",
            "Layer (type)                 Output Shape              Param #   \n",
            "=================================================================\n",
            "lstm (LSTM)                  (None, 5, 1)              12        \n",
            "_________________________________________________________________\n",
            "lstm_1 (LSTM)                (None, 1)                 12        \n",
            "=================================================================\n",
            "Total params: 24\n",
            "Trainable params: 24\n",
            "Non-trainable params: 0\n",
            "_________________________________________________________________\n"
          ],
          "name": "stdout"
        }
      ]
    },
    {
      "cell_type": "code",
      "metadata": {
        "id": "0oLMqAxh3i1Q",
        "colab_type": "code",
        "colab": {}
      },
      "source": [
        "model.compile(loss=\"mean_absolute_error\",optimizer=\"adam\",metrics=[\"accuracy\"])"
      ],
      "execution_count": 0,
      "outputs": []
    },
    {
      "cell_type": "code",
      "metadata": {
        "id": "Pa7GShiP6N15",
        "colab_type": "code",
        "colab": {
          "base_uri": "https://localhost:8080/",
          "height": 1000
        },
        "outputId": "f07a6192-c7e2-4b01-9f04-cbf005b6348a"
      },
      "source": [
        "history = model.fit(x_train,y_train,epochs=200,validation_data=(x_test,y_test))"
      ],
      "execution_count": 13,
      "outputs": [
        {
          "output_type": "stream",
          "text": [
            "Train on 80 samples, validate on 20 samples\n",
            "Epoch 1/200\n",
            "80/80 [==============================] - 0s 1ms/sample - loss: 0.1402 - acc: 0.0000e+00 - val_loss: 0.0988 - val_acc: 0.0000e+00\n",
            "Epoch 2/200\n",
            "80/80 [==============================] - 0s 865us/sample - loss: 0.1384 - acc: 0.0000e+00 - val_loss: 0.0981 - val_acc: 0.0000e+00\n",
            "Epoch 3/200\n",
            "80/80 [==============================] - 0s 952us/sample - loss: 0.1367 - acc: 0.0000e+00 - val_loss: 0.0974 - val_acc: 0.0000e+00\n",
            "Epoch 4/200\n",
            "80/80 [==============================] - 0s 933us/sample - loss: 0.1352 - acc: 0.0000e+00 - val_loss: 0.0967 - val_acc: 0.0000e+00\n",
            "Epoch 5/200\n",
            "80/80 [==============================] - 0s 958us/sample - loss: 0.1334 - acc: 0.0000e+00 - val_loss: 0.0960 - val_acc: 0.0000e+00\n",
            "Epoch 6/200\n",
            "80/80 [==============================] - 0s 1ms/sample - loss: 0.1320 - acc: 0.0000e+00 - val_loss: 0.0956 - val_acc: 0.0000e+00\n",
            "Epoch 7/200\n",
            "80/80 [==============================] - 0s 1ms/sample - loss: 0.1303 - acc: 0.0000e+00 - val_loss: 0.0952 - val_acc: 0.0000e+00\n",
            "Epoch 8/200\n",
            "80/80 [==============================] - 0s 884us/sample - loss: 0.1287 - acc: 0.0000e+00 - val_loss: 0.0948 - val_acc: 0.0000e+00\n",
            "Epoch 9/200\n",
            "80/80 [==============================] - 0s 852us/sample - loss: 0.1273 - acc: 0.0000e+00 - val_loss: 0.0945 - val_acc: 0.0000e+00\n",
            "Epoch 10/200\n",
            "80/80 [==============================] - 0s 964us/sample - loss: 0.1259 - acc: 0.0000e+00 - val_loss: 0.0941 - val_acc: 0.0000e+00\n",
            "Epoch 11/200\n",
            "80/80 [==============================] - 0s 893us/sample - loss: 0.1246 - acc: 0.0000e+00 - val_loss: 0.0938 - val_acc: 0.0000e+00\n",
            "Epoch 12/200\n",
            "80/80 [==============================] - 0s 897us/sample - loss: 0.1234 - acc: 0.0000e+00 - val_loss: 0.0934 - val_acc: 0.0000e+00\n",
            "Epoch 13/200\n",
            "80/80 [==============================] - 0s 926us/sample - loss: 0.1222 - acc: 0.0000e+00 - val_loss: 0.0931 - val_acc: 0.0000e+00\n",
            "Epoch 14/200\n",
            "80/80 [==============================] - 0s 890us/sample - loss: 0.1211 - acc: 0.0000e+00 - val_loss: 0.0928 - val_acc: 0.0000e+00\n",
            "Epoch 15/200\n",
            "80/80 [==============================] - 0s 880us/sample - loss: 0.1201 - acc: 0.0000e+00 - val_loss: 0.0928 - val_acc: 0.0000e+00\n",
            "Epoch 16/200\n",
            "80/80 [==============================] - 0s 930us/sample - loss: 0.1189 - acc: 0.0000e+00 - val_loss: 0.0927 - val_acc: 0.0000e+00\n",
            "Epoch 17/200\n",
            "80/80 [==============================] - 0s 874us/sample - loss: 0.1180 - acc: 0.0000e+00 - val_loss: 0.0928 - val_acc: 0.0000e+00\n",
            "Epoch 18/200\n",
            "80/80 [==============================] - 0s 921us/sample - loss: 0.1171 - acc: 0.0000e+00 - val_loss: 0.0930 - val_acc: 0.0000e+00\n",
            "Epoch 19/200\n",
            "80/80 [==============================] - 0s 953us/sample - loss: 0.1160 - acc: 0.0000e+00 - val_loss: 0.0932 - val_acc: 0.0000e+00\n",
            "Epoch 20/200\n",
            "80/80 [==============================] - 0s 1ms/sample - loss: 0.1152 - acc: 0.0000e+00 - val_loss: 0.0934 - val_acc: 0.0000e+00\n",
            "Epoch 21/200\n",
            "80/80 [==============================] - 0s 861us/sample - loss: 0.1143 - acc: 0.0000e+00 - val_loss: 0.0936 - val_acc: 0.0000e+00\n",
            "Epoch 22/200\n",
            "80/80 [==============================] - 0s 893us/sample - loss: 0.1136 - acc: 0.0000e+00 - val_loss: 0.0938 - val_acc: 0.0000e+00\n",
            "Epoch 23/200\n",
            "80/80 [==============================] - 0s 924us/sample - loss: 0.1129 - acc: 0.0000e+00 - val_loss: 0.0940 - val_acc: 0.0000e+00\n",
            "Epoch 24/200\n",
            "80/80 [==============================] - 0s 820us/sample - loss: 0.1122 - acc: 0.0000e+00 - val_loss: 0.0943 - val_acc: 0.0000e+00\n",
            "Epoch 25/200\n",
            "80/80 [==============================] - 0s 794us/sample - loss: 0.1116 - acc: 0.0000e+00 - val_loss: 0.0947 - val_acc: 0.0000e+00\n",
            "Epoch 26/200\n",
            "80/80 [==============================] - 0s 808us/sample - loss: 0.1110 - acc: 0.0000e+00 - val_loss: 0.0951 - val_acc: 0.0000e+00\n",
            "Epoch 27/200\n",
            "80/80 [==============================] - 0s 868us/sample - loss: 0.1104 - acc: 0.0000e+00 - val_loss: 0.0955 - val_acc: 0.0000e+00\n",
            "Epoch 28/200\n",
            "80/80 [==============================] - 0s 880us/sample - loss: 0.1099 - acc: 0.0000e+00 - val_loss: 0.0960 - val_acc: 0.0000e+00\n",
            "Epoch 29/200\n",
            "80/80 [==============================] - 0s 822us/sample - loss: 0.1093 - acc: 0.0000e+00 - val_loss: 0.0966 - val_acc: 0.0000e+00\n",
            "Epoch 30/200\n",
            "80/80 [==============================] - 0s 805us/sample - loss: 0.1087 - acc: 0.0000e+00 - val_loss: 0.0971 - val_acc: 0.0000e+00\n",
            "Epoch 31/200\n",
            "80/80 [==============================] - 0s 806us/sample - loss: 0.1082 - acc: 0.0000e+00 - val_loss: 0.0977 - val_acc: 0.0000e+00\n",
            "Epoch 32/200\n",
            "80/80 [==============================] - 0s 846us/sample - loss: 0.1077 - acc: 0.0000e+00 - val_loss: 0.0983 - val_acc: 0.0000e+00\n",
            "Epoch 33/200\n",
            "80/80 [==============================] - 0s 859us/sample - loss: 0.1072 - acc: 0.0000e+00 - val_loss: 0.0989 - val_acc: 0.0000e+00\n",
            "Epoch 34/200\n",
            "80/80 [==============================] - 0s 841us/sample - loss: 0.1069 - acc: 0.0000e+00 - val_loss: 0.0994 - val_acc: 0.0000e+00\n",
            "Epoch 35/200\n",
            "80/80 [==============================] - 0s 833us/sample - loss: 0.1066 - acc: 0.0000e+00 - val_loss: 0.1000 - val_acc: 0.0000e+00\n",
            "Epoch 36/200\n",
            "80/80 [==============================] - 0s 850us/sample - loss: 0.1061 - acc: 0.0000e+00 - val_loss: 0.1005 - val_acc: 0.0000e+00\n",
            "Epoch 37/200\n",
            "80/80 [==============================] - 0s 942us/sample - loss: 0.1058 - acc: 0.0000e+00 - val_loss: 0.1009 - val_acc: 0.0000e+00\n",
            "Epoch 38/200\n",
            "80/80 [==============================] - 0s 809us/sample - loss: 0.1055 - acc: 0.0000e+00 - val_loss: 0.1014 - val_acc: 0.0000e+00\n",
            "Epoch 39/200\n",
            "80/80 [==============================] - 0s 787us/sample - loss: 0.1052 - acc: 0.0000e+00 - val_loss: 0.1019 - val_acc: 0.0000e+00\n",
            "Epoch 40/200\n",
            "80/80 [==============================] - 0s 831us/sample - loss: 0.1050 - acc: 0.0000e+00 - val_loss: 0.1024 - val_acc: 0.0000e+00\n",
            "Epoch 41/200\n",
            "80/80 [==============================] - 0s 803us/sample - loss: 0.1047 - acc: 0.0000e+00 - val_loss: 0.1028 - val_acc: 0.0000e+00\n",
            "Epoch 42/200\n",
            "80/80 [==============================] - 0s 801us/sample - loss: 0.1045 - acc: 0.0000e+00 - val_loss: 0.1033 - val_acc: 0.0000e+00\n",
            "Epoch 43/200\n",
            "80/80 [==============================] - 0s 801us/sample - loss: 0.1043 - acc: 0.0000e+00 - val_loss: 0.1037 - val_acc: 0.0000e+00\n",
            "Epoch 44/200\n",
            "80/80 [==============================] - 0s 807us/sample - loss: 0.1041 - acc: 0.0000e+00 - val_loss: 0.1041 - val_acc: 0.0000e+00\n",
            "Epoch 45/200\n",
            "80/80 [==============================] - 0s 813us/sample - loss: 0.1039 - acc: 0.0000e+00 - val_loss: 0.1045 - val_acc: 0.0000e+00\n",
            "Epoch 46/200\n",
            "80/80 [==============================] - 0s 914us/sample - loss: 0.1037 - acc: 0.0000e+00 - val_loss: 0.1048 - val_acc: 0.0000e+00\n",
            "Epoch 47/200\n",
            "80/80 [==============================] - 0s 931us/sample - loss: 0.1036 - acc: 0.0000e+00 - val_loss: 0.1051 - val_acc: 0.0000e+00\n",
            "Epoch 48/200\n",
            "80/80 [==============================] - 0s 817us/sample - loss: 0.1034 - acc: 0.0000e+00 - val_loss: 0.1053 - val_acc: 0.0000e+00\n",
            "Epoch 49/200\n",
            "80/80 [==============================] - 0s 807us/sample - loss: 0.1033 - acc: 0.0000e+00 - val_loss: 0.1055 - val_acc: 0.0000e+00\n",
            "Epoch 50/200\n",
            "80/80 [==============================] - 0s 814us/sample - loss: 0.1032 - acc: 0.0000e+00 - val_loss: 0.1058 - val_acc: 0.0000e+00\n",
            "Epoch 51/200\n",
            "80/80 [==============================] - 0s 963us/sample - loss: 0.1031 - acc: 0.0000e+00 - val_loss: 0.1061 - val_acc: 0.0000e+00\n",
            "Epoch 52/200\n",
            "80/80 [==============================] - 0s 908us/sample - loss: 0.1029 - acc: 0.0000e+00 - val_loss: 0.1063 - val_acc: 0.0000e+00\n",
            "Epoch 53/200\n",
            "80/80 [==============================] - 0s 814us/sample - loss: 0.1028 - acc: 0.0000e+00 - val_loss: 0.1067 - val_acc: 0.0000e+00\n",
            "Epoch 54/200\n",
            "80/80 [==============================] - 0s 796us/sample - loss: 0.1027 - acc: 0.0000e+00 - val_loss: 0.1070 - val_acc: 0.0000e+00\n",
            "Epoch 55/200\n",
            "80/80 [==============================] - 0s 810us/sample - loss: 0.1026 - acc: 0.0000e+00 - val_loss: 0.1072 - val_acc: 0.0000e+00\n",
            "Epoch 56/200\n",
            "80/80 [==============================] - 0s 866us/sample - loss: 0.1026 - acc: 0.0000e+00 - val_loss: 0.1075 - val_acc: 0.0000e+00\n",
            "Epoch 57/200\n",
            "80/80 [==============================] - 0s 825us/sample - loss: 0.1024 - acc: 0.0000e+00 - val_loss: 0.1076 - val_acc: 0.0000e+00\n",
            "Epoch 58/200\n",
            "80/80 [==============================] - 0s 866us/sample - loss: 0.1023 - acc: 0.0000e+00 - val_loss: 0.1078 - val_acc: 0.0000e+00\n",
            "Epoch 59/200\n",
            "80/80 [==============================] - 0s 838us/sample - loss: 0.1023 - acc: 0.0000e+00 - val_loss: 0.1079 - val_acc: 0.0000e+00\n",
            "Epoch 60/200\n",
            "80/80 [==============================] - 0s 821us/sample - loss: 0.1022 - acc: 0.0000e+00 - val_loss: 0.1080 - val_acc: 0.0000e+00\n",
            "Epoch 61/200\n",
            "80/80 [==============================] - 0s 851us/sample - loss: 0.1021 - acc: 0.0000e+00 - val_loss: 0.1080 - val_acc: 0.0000e+00\n",
            "Epoch 62/200\n",
            "80/80 [==============================] - 0s 859us/sample - loss: 0.1020 - acc: 0.0000e+00 - val_loss: 0.1082 - val_acc: 0.0000e+00\n",
            "Epoch 63/200\n",
            "80/80 [==============================] - 0s 857us/sample - loss: 0.1019 - acc: 0.0000e+00 - val_loss: 0.1083 - val_acc: 0.0000e+00\n",
            "Epoch 64/200\n",
            "80/80 [==============================] - 0s 798us/sample - loss: 0.1019 - acc: 0.0000e+00 - val_loss: 0.1085 - val_acc: 0.0000e+00\n",
            "Epoch 65/200\n",
            "80/80 [==============================] - 0s 898us/sample - loss: 0.1018 - acc: 0.0000e+00 - val_loss: 0.1086 - val_acc: 0.0000e+00\n",
            "Epoch 66/200\n",
            "80/80 [==============================] - 0s 861us/sample - loss: 0.1017 - acc: 0.0000e+00 - val_loss: 0.1087 - val_acc: 0.0000e+00\n",
            "Epoch 67/200\n",
            "80/80 [==============================] - 0s 881us/sample - loss: 0.1016 - acc: 0.0000e+00 - val_loss: 0.1089 - val_acc: 0.0000e+00\n",
            "Epoch 68/200\n",
            "80/80 [==============================] - 0s 847us/sample - loss: 0.1016 - acc: 0.0000e+00 - val_loss: 0.1091 - val_acc: 0.0000e+00\n",
            "Epoch 69/200\n",
            "80/80 [==============================] - 0s 879us/sample - loss: 0.1015 - acc: 0.0000e+00 - val_loss: 0.1091 - val_acc: 0.0000e+00\n",
            "Epoch 70/200\n",
            "80/80 [==============================] - 0s 950us/sample - loss: 0.1014 - acc: 0.0000e+00 - val_loss: 0.1091 - val_acc: 0.0000e+00\n",
            "Epoch 71/200\n",
            "80/80 [==============================] - 0s 978us/sample - loss: 0.1014 - acc: 0.0000e+00 - val_loss: 0.1093 - val_acc: 0.0000e+00\n",
            "Epoch 72/200\n",
            "80/80 [==============================] - 0s 980us/sample - loss: 0.1013 - acc: 0.0000e+00 - val_loss: 0.1094 - val_acc: 0.0000e+00\n",
            "Epoch 73/200\n",
            "80/80 [==============================] - 0s 885us/sample - loss: 0.1012 - acc: 0.0000e+00 - val_loss: 0.1096 - val_acc: 0.0000e+00\n",
            "Epoch 74/200\n",
            "80/80 [==============================] - 0s 877us/sample - loss: 0.1012 - acc: 0.0000e+00 - val_loss: 0.1097 - val_acc: 0.0000e+00\n",
            "Epoch 75/200\n",
            "80/80 [==============================] - 0s 843us/sample - loss: 0.1011 - acc: 0.0000e+00 - val_loss: 0.1097 - val_acc: 0.0000e+00\n",
            "Epoch 76/200\n",
            "80/80 [==============================] - 0s 838us/sample - loss: 0.1010 - acc: 0.0000e+00 - val_loss: 0.1098 - val_acc: 0.0000e+00\n",
            "Epoch 77/200\n",
            "80/80 [==============================] - 0s 855us/sample - loss: 0.1010 - acc: 0.0000e+00 - val_loss: 0.1100 - val_acc: 0.0000e+00\n",
            "Epoch 78/200\n",
            "80/80 [==============================] - 0s 1ms/sample - loss: 0.1009 - acc: 0.0000e+00 - val_loss: 0.1101 - val_acc: 0.0000e+00\n",
            "Epoch 79/200\n",
            "80/80 [==============================] - 0s 877us/sample - loss: 0.1008 - acc: 0.0000e+00 - val_loss: 0.1103 - val_acc: 0.0000e+00\n",
            "Epoch 80/200\n",
            "80/80 [==============================] - 0s 851us/sample - loss: 0.1008 - acc: 0.0000e+00 - val_loss: 0.1105 - val_acc: 0.0000e+00\n",
            "Epoch 81/200\n",
            "80/80 [==============================] - 0s 867us/sample - loss: 0.1007 - acc: 0.0000e+00 - val_loss: 0.1108 - val_acc: 0.0000e+00\n",
            "Epoch 82/200\n",
            "80/80 [==============================] - 0s 881us/sample - loss: 0.1006 - acc: 0.0000e+00 - val_loss: 0.1108 - val_acc: 0.0000e+00\n",
            "Epoch 83/200\n",
            "80/80 [==============================] - 0s 1ms/sample - loss: 0.1006 - acc: 0.0000e+00 - val_loss: 0.1108 - val_acc: 0.0000e+00\n",
            "Epoch 84/200\n",
            "80/80 [==============================] - 0s 877us/sample - loss: 0.1005 - acc: 0.0000e+00 - val_loss: 0.1110 - val_acc: 0.0000e+00\n",
            "Epoch 85/200\n",
            "80/80 [==============================] - 0s 882us/sample - loss: 0.1005 - acc: 0.0000e+00 - val_loss: 0.1111 - val_acc: 0.0000e+00\n",
            "Epoch 86/200\n",
            "80/80 [==============================] - 0s 969us/sample - loss: 0.1004 - acc: 0.0000e+00 - val_loss: 0.1111 - val_acc: 0.0000e+00\n",
            "Epoch 87/200\n",
            "80/80 [==============================] - 0s 938us/sample - loss: 0.1004 - acc: 0.0000e+00 - val_loss: 0.1112 - val_acc: 0.0000e+00\n",
            "Epoch 88/200\n",
            "80/80 [==============================] - 0s 931us/sample - loss: 0.1003 - acc: 0.0000e+00 - val_loss: 0.1115 - val_acc: 0.0000e+00\n",
            "Epoch 89/200\n",
            "80/80 [==============================] - 0s 849us/sample - loss: 0.1003 - acc: 0.0000e+00 - val_loss: 0.1117 - val_acc: 0.0000e+00\n",
            "Epoch 90/200\n",
            "80/80 [==============================] - 0s 865us/sample - loss: 0.1002 - acc: 0.0000e+00 - val_loss: 0.1117 - val_acc: 0.0000e+00\n",
            "Epoch 91/200\n",
            "80/80 [==============================] - 0s 972us/sample - loss: 0.1002 - acc: 0.0000e+00 - val_loss: 0.1117 - val_acc: 0.0000e+00\n",
            "Epoch 92/200\n",
            "80/80 [==============================] - 0s 886us/sample - loss: 0.1001 - acc: 0.0000e+00 - val_loss: 0.1117 - val_acc: 0.0000e+00\n",
            "Epoch 93/200\n",
            "80/80 [==============================] - 0s 890us/sample - loss: 0.1001 - acc: 0.0000e+00 - val_loss: 0.1117 - val_acc: 0.0000e+00\n",
            "Epoch 94/200\n",
            "80/80 [==============================] - 0s 864us/sample - loss: 0.1000 - acc: 0.0000e+00 - val_loss: 0.1118 - val_acc: 0.0000e+00\n",
            "Epoch 95/200\n",
            "80/80 [==============================] - 0s 846us/sample - loss: 0.1000 - acc: 0.0000e+00 - val_loss: 0.1119 - val_acc: 0.0000e+00\n",
            "Epoch 96/200\n",
            "80/80 [==============================] - 0s 908us/sample - loss: 0.1000 - acc: 0.0000e+00 - val_loss: 0.1119 - val_acc: 0.0000e+00\n",
            "Epoch 97/200\n",
            "80/80 [==============================] - 0s 925us/sample - loss: 0.0999 - acc: 0.0000e+00 - val_loss: 0.1120 - val_acc: 0.0000e+00\n",
            "Epoch 98/200\n",
            "80/80 [==============================] - 0s 859us/sample - loss: 0.0999 - acc: 0.0000e+00 - val_loss: 0.1121 - val_acc: 0.0000e+00\n",
            "Epoch 99/200\n",
            "80/80 [==============================] - 0s 862us/sample - loss: 0.0998 - acc: 0.0000e+00 - val_loss: 0.1120 - val_acc: 0.0000e+00\n",
            "Epoch 100/200\n",
            "80/80 [==============================] - 0s 901us/sample - loss: 0.0998 - acc: 0.0000e+00 - val_loss: 0.1120 - val_acc: 0.0000e+00\n",
            "Epoch 101/200\n",
            "80/80 [==============================] - 0s 832us/sample - loss: 0.0997 - acc: 0.0000e+00 - val_loss: 0.1120 - val_acc: 0.0000e+00\n",
            "Epoch 102/200\n",
            "80/80 [==============================] - 0s 820us/sample - loss: 0.0997 - acc: 0.0000e+00 - val_loss: 0.1119 - val_acc: 0.0000e+00\n",
            "Epoch 103/200\n",
            "80/80 [==============================] - 0s 858us/sample - loss: 0.0997 - acc: 0.0000e+00 - val_loss: 0.1119 - val_acc: 0.0000e+00\n",
            "Epoch 104/200\n",
            "80/80 [==============================] - 0s 977us/sample - loss: 0.0996 - acc: 0.0000e+00 - val_loss: 0.1116 - val_acc: 0.0000e+00\n",
            "Epoch 105/200\n",
            "80/80 [==============================] - 0s 871us/sample - loss: 0.0996 - acc: 0.0000e+00 - val_loss: 0.1116 - val_acc: 0.0000e+00\n",
            "Epoch 106/200\n",
            "80/80 [==============================] - 0s 846us/sample - loss: 0.0995 - acc: 0.0000e+00 - val_loss: 0.1116 - val_acc: 0.0000e+00\n",
            "Epoch 107/200\n",
            "80/80 [==============================] - 0s 843us/sample - loss: 0.0995 - acc: 0.0000e+00 - val_loss: 0.1115 - val_acc: 0.0000e+00\n",
            "Epoch 108/200\n",
            "80/80 [==============================] - 0s 835us/sample - loss: 0.0995 - acc: 0.0000e+00 - val_loss: 0.1115 - val_acc: 0.0000e+00\n",
            "Epoch 109/200\n",
            "80/80 [==============================] - 0s 919us/sample - loss: 0.0994 - acc: 0.0000e+00 - val_loss: 0.1116 - val_acc: 0.0000e+00\n",
            "Epoch 110/200\n",
            "80/80 [==============================] - 0s 972us/sample - loss: 0.0994 - acc: 0.0000e+00 - val_loss: 0.1116 - val_acc: 0.0000e+00\n",
            "Epoch 111/200\n",
            "80/80 [==============================] - 0s 968us/sample - loss: 0.0993 - acc: 0.0000e+00 - val_loss: 0.1115 - val_acc: 0.0000e+00\n",
            "Epoch 112/200\n",
            "80/80 [==============================] - 0s 846us/sample - loss: 0.0993 - acc: 0.0000e+00 - val_loss: 0.1116 - val_acc: 0.0000e+00\n",
            "Epoch 113/200\n",
            "80/80 [==============================] - 0s 843us/sample - loss: 0.0993 - acc: 0.0000e+00 - val_loss: 0.1115 - val_acc: 0.0000e+00\n",
            "Epoch 114/200\n",
            "80/80 [==============================] - 0s 1ms/sample - loss: 0.0992 - acc: 0.0000e+00 - val_loss: 0.1115 - val_acc: 0.0000e+00\n",
            "Epoch 115/200\n",
            "80/80 [==============================] - 0s 864us/sample - loss: 0.0992 - acc: 0.0000e+00 - val_loss: 0.1115 - val_acc: 0.0000e+00\n",
            "Epoch 116/200\n",
            "80/80 [==============================] - 0s 839us/sample - loss: 0.0992 - acc: 0.0000e+00 - val_loss: 0.1113 - val_acc: 0.0000e+00\n",
            "Epoch 117/200\n",
            "80/80 [==============================] - 0s 836us/sample - loss: 0.0991 - acc: 0.0000e+00 - val_loss: 0.1110 - val_acc: 0.0000e+00\n",
            "Epoch 118/200\n",
            "80/80 [==============================] - 0s 1ms/sample - loss: 0.0991 - acc: 0.0000e+00 - val_loss: 0.1108 - val_acc: 0.0000e+00\n",
            "Epoch 119/200\n",
            "80/80 [==============================] - 0s 848us/sample - loss: 0.0991 - acc: 0.0000e+00 - val_loss: 0.1108 - val_acc: 0.0000e+00\n",
            "Epoch 120/200\n",
            "80/80 [==============================] - 0s 872us/sample - loss: 0.0990 - acc: 0.0000e+00 - val_loss: 0.1105 - val_acc: 0.0000e+00\n",
            "Epoch 121/200\n",
            "80/80 [==============================] - 0s 835us/sample - loss: 0.0990 - acc: 0.0000e+00 - val_loss: 0.1103 - val_acc: 0.0000e+00\n",
            "Epoch 122/200\n",
            "80/80 [==============================] - 0s 955us/sample - loss: 0.0989 - acc: 0.0000e+00 - val_loss: 0.1104 - val_acc: 0.0000e+00\n",
            "Epoch 123/200\n",
            "80/80 [==============================] - 0s 881us/sample - loss: 0.0989 - acc: 0.0000e+00 - val_loss: 0.1105 - val_acc: 0.0000e+00\n",
            "Epoch 124/200\n",
            "80/80 [==============================] - 0s 937us/sample - loss: 0.0989 - acc: 0.0000e+00 - val_loss: 0.1105 - val_acc: 0.0000e+00\n",
            "Epoch 125/200\n",
            "80/80 [==============================] - 0s 883us/sample - loss: 0.0988 - acc: 0.0000e+00 - val_loss: 0.1103 - val_acc: 0.0000e+00\n",
            "Epoch 126/200\n",
            "80/80 [==============================] - 0s 851us/sample - loss: 0.0988 - acc: 0.0000e+00 - val_loss: 0.1101 - val_acc: 0.0000e+00\n",
            "Epoch 127/200\n",
            "80/80 [==============================] - 0s 861us/sample - loss: 0.0988 - acc: 0.0000e+00 - val_loss: 0.1098 - val_acc: 0.0000e+00\n",
            "Epoch 128/200\n",
            "80/80 [==============================] - 0s 825us/sample - loss: 0.0987 - acc: 0.0000e+00 - val_loss: 0.1096 - val_acc: 0.0000e+00\n",
            "Epoch 129/200\n",
            "80/80 [==============================] - 0s 811us/sample - loss: 0.0987 - acc: 0.0000e+00 - val_loss: 0.1093 - val_acc: 0.0000e+00\n",
            "Epoch 130/200\n",
            "80/80 [==============================] - 0s 882us/sample - loss: 0.0987 - acc: 0.0000e+00 - val_loss: 0.1090 - val_acc: 0.0000e+00\n",
            "Epoch 131/200\n",
            "80/80 [==============================] - 0s 1ms/sample - loss: 0.0987 - acc: 0.0000e+00 - val_loss: 0.1087 - val_acc: 0.0000e+00\n",
            "Epoch 132/200\n",
            "80/80 [==============================] - 0s 876us/sample - loss: 0.0986 - acc: 0.0000e+00 - val_loss: 0.1087 - val_acc: 0.0000e+00\n",
            "Epoch 133/200\n",
            "80/80 [==============================] - 0s 854us/sample - loss: 0.0986 - acc: 0.0000e+00 - val_loss: 0.1085 - val_acc: 0.0000e+00\n",
            "Epoch 134/200\n",
            "80/80 [==============================] - 0s 870us/sample - loss: 0.0986 - acc: 0.0000e+00 - val_loss: 0.1084 - val_acc: 0.0000e+00\n",
            "Epoch 135/200\n",
            "80/80 [==============================] - 0s 905us/sample - loss: 0.0986 - acc: 0.0000e+00 - val_loss: 0.1084 - val_acc: 0.0000e+00\n",
            "Epoch 136/200\n",
            "80/80 [==============================] - 0s 927us/sample - loss: 0.0985 - acc: 0.0000e+00 - val_loss: 0.1085 - val_acc: 0.0000e+00\n",
            "Epoch 137/200\n",
            "80/80 [==============================] - 0s 881us/sample - loss: 0.0985 - acc: 0.0000e+00 - val_loss: 0.1087 - val_acc: 0.0000e+00\n",
            "Epoch 138/200\n",
            "80/80 [==============================] - 0s 914us/sample - loss: 0.0985 - acc: 0.0000e+00 - val_loss: 0.1086 - val_acc: 0.0000e+00\n",
            "Epoch 139/200\n",
            "80/80 [==============================] - 0s 859us/sample - loss: 0.0984 - acc: 0.0000e+00 - val_loss: 0.1086 - val_acc: 0.0000e+00\n",
            "Epoch 140/200\n",
            "80/80 [==============================] - 0s 920us/sample - loss: 0.0984 - acc: 0.0000e+00 - val_loss: 0.1087 - val_acc: 0.0000e+00\n",
            "Epoch 141/200\n",
            "80/80 [==============================] - 0s 908us/sample - loss: 0.0984 - acc: 0.0000e+00 - val_loss: 0.1087 - val_acc: 0.0000e+00\n",
            "Epoch 142/200\n",
            "80/80 [==============================] - 0s 844us/sample - loss: 0.0983 - acc: 0.0000e+00 - val_loss: 0.1087 - val_acc: 0.0000e+00\n",
            "Epoch 143/200\n",
            "80/80 [==============================] - 0s 879us/sample - loss: 0.0983 - acc: 0.0000e+00 - val_loss: 0.1087 - val_acc: 0.0000e+00\n",
            "Epoch 144/200\n",
            "80/80 [==============================] - 0s 956us/sample - loss: 0.0983 - acc: 0.0000e+00 - val_loss: 0.1085 - val_acc: 0.0000e+00\n",
            "Epoch 145/200\n",
            "80/80 [==============================] - 0s 854us/sample - loss: 0.0983 - acc: 0.0000e+00 - val_loss: 0.1083 - val_acc: 0.0000e+00\n",
            "Epoch 146/200\n",
            "80/80 [==============================] - 0s 924us/sample - loss: 0.0982 - acc: 0.0000e+00 - val_loss: 0.1081 - val_acc: 0.0000e+00\n",
            "Epoch 147/200\n",
            "80/80 [==============================] - 0s 881us/sample - loss: 0.0982 - acc: 0.0000e+00 - val_loss: 0.1079 - val_acc: 0.0000e+00\n",
            "Epoch 148/200\n",
            "80/80 [==============================] - 0s 918us/sample - loss: 0.0982 - acc: 0.0000e+00 - val_loss: 0.1078 - val_acc: 0.0000e+00\n",
            "Epoch 149/200\n",
            "80/80 [==============================] - 0s 845us/sample - loss: 0.0982 - acc: 0.0000e+00 - val_loss: 0.1078 - val_acc: 0.0000e+00\n",
            "Epoch 150/200\n",
            "80/80 [==============================] - 0s 930us/sample - loss: 0.0982 - acc: 0.0000e+00 - val_loss: 0.1081 - val_acc: 0.0000e+00\n",
            "Epoch 151/200\n",
            "80/80 [==============================] - 0s 1ms/sample - loss: 0.0981 - acc: 0.0000e+00 - val_loss: 0.1081 - val_acc: 0.0000e+00\n",
            "Epoch 152/200\n",
            "80/80 [==============================] - 0s 825us/sample - loss: 0.0981 - acc: 0.0000e+00 - val_loss: 0.1083 - val_acc: 0.0000e+00\n",
            "Epoch 153/200\n",
            "80/80 [==============================] - 0s 832us/sample - loss: 0.0981 - acc: 0.0000e+00 - val_loss: 0.1084 - val_acc: 0.0000e+00\n",
            "Epoch 154/200\n",
            "80/80 [==============================] - 0s 848us/sample - loss: 0.0980 - acc: 0.0000e+00 - val_loss: 0.1085 - val_acc: 0.0000e+00\n",
            "Epoch 155/200\n",
            "80/80 [==============================] - 0s 1ms/sample - loss: 0.0980 - acc: 0.0000e+00 - val_loss: 0.1087 - val_acc: 0.0000e+00\n",
            "Epoch 156/200\n",
            "80/80 [==============================] - 0s 940us/sample - loss: 0.0980 - acc: 0.0000e+00 - val_loss: 0.1089 - val_acc: 0.0000e+00\n",
            "Epoch 157/200\n",
            "80/80 [==============================] - 0s 980us/sample - loss: 0.0980 - acc: 0.0000e+00 - val_loss: 0.1090 - val_acc: 0.0000e+00\n",
            "Epoch 158/200\n",
            "80/80 [==============================] - 0s 889us/sample - loss: 0.0979 - acc: 0.0000e+00 - val_loss: 0.1091 - val_acc: 0.0000e+00\n",
            "Epoch 159/200\n",
            "80/80 [==============================] - 0s 1ms/sample - loss: 0.0979 - acc: 0.0000e+00 - val_loss: 0.1092 - val_acc: 0.0000e+00\n",
            "Epoch 160/200\n",
            "80/80 [==============================] - 0s 979us/sample - loss: 0.0979 - acc: 0.0000e+00 - val_loss: 0.1092 - val_acc: 0.0000e+00\n",
            "Epoch 161/200\n",
            "80/80 [==============================] - 0s 889us/sample - loss: 0.0979 - acc: 0.0000e+00 - val_loss: 0.1093 - val_acc: 0.0000e+00\n",
            "Epoch 162/200\n",
            "80/80 [==============================] - 0s 904us/sample - loss: 0.0978 - acc: 0.0000e+00 - val_loss: 0.1094 - val_acc: 0.0000e+00\n",
            "Epoch 163/200\n",
            "80/80 [==============================] - 0s 852us/sample - loss: 0.0978 - acc: 0.0000e+00 - val_loss: 0.1094 - val_acc: 0.0000e+00\n",
            "Epoch 164/200\n",
            "80/80 [==============================] - 0s 857us/sample - loss: 0.0978 - acc: 0.0000e+00 - val_loss: 0.1093 - val_acc: 0.0000e+00\n",
            "Epoch 165/200\n",
            "80/80 [==============================] - 0s 885us/sample - loss: 0.0978 - acc: 0.0000e+00 - val_loss: 0.1094 - val_acc: 0.0000e+00\n",
            "Epoch 166/200\n",
            "80/80 [==============================] - 0s 838us/sample - loss: 0.0977 - acc: 0.0000e+00 - val_loss: 0.1094 - val_acc: 0.0000e+00\n",
            "Epoch 167/200\n",
            "80/80 [==============================] - 0s 844us/sample - loss: 0.0977 - acc: 0.0000e+00 - val_loss: 0.1093 - val_acc: 0.0000e+00\n",
            "Epoch 168/200\n",
            "80/80 [==============================] - 0s 1ms/sample - loss: 0.0977 - acc: 0.0000e+00 - val_loss: 0.1091 - val_acc: 0.0000e+00\n",
            "Epoch 169/200\n",
            "80/80 [==============================] - 0s 849us/sample - loss: 0.0977 - acc: 0.0000e+00 - val_loss: 0.1090 - val_acc: 0.0000e+00\n",
            "Epoch 170/200\n",
            "80/80 [==============================] - 0s 974us/sample - loss: 0.0977 - acc: 0.0000e+00 - val_loss: 0.1092 - val_acc: 0.0000e+00\n",
            "Epoch 171/200\n",
            "80/80 [==============================] - 0s 826us/sample - loss: 0.0976 - acc: 0.0000e+00 - val_loss: 0.1092 - val_acc: 0.0000e+00\n",
            "Epoch 172/200\n",
            "80/80 [==============================] - 0s 892us/sample - loss: 0.0976 - acc: 0.0000e+00 - val_loss: 0.1093 - val_acc: 0.0000e+00\n",
            "Epoch 173/200\n",
            "80/80 [==============================] - 0s 877us/sample - loss: 0.0976 - acc: 0.0000e+00 - val_loss: 0.1093 - val_acc: 0.0000e+00\n",
            "Epoch 174/200\n",
            "80/80 [==============================] - 0s 816us/sample - loss: 0.0976 - acc: 0.0000e+00 - val_loss: 0.1093 - val_acc: 0.0000e+00\n",
            "Epoch 175/200\n",
            "80/80 [==============================] - 0s 877us/sample - loss: 0.0975 - acc: 0.0000e+00 - val_loss: 0.1094 - val_acc: 0.0000e+00\n",
            "Epoch 176/200\n",
            "80/80 [==============================] - 0s 866us/sample - loss: 0.0975 - acc: 0.0000e+00 - val_loss: 0.1093 - val_acc: 0.0000e+00\n",
            "Epoch 177/200\n",
            "80/80 [==============================] - 0s 906us/sample - loss: 0.0975 - acc: 0.0000e+00 - val_loss: 0.1093 - val_acc: 0.0000e+00\n",
            "Epoch 178/200\n",
            "80/80 [==============================] - 0s 930us/sample - loss: 0.0975 - acc: 0.0000e+00 - val_loss: 0.1093 - val_acc: 0.0000e+00\n",
            "Epoch 179/200\n",
            "80/80 [==============================] - 0s 903us/sample - loss: 0.0975 - acc: 0.0000e+00 - val_loss: 0.1094 - val_acc: 0.0000e+00\n",
            "Epoch 180/200\n",
            "80/80 [==============================] - 0s 884us/sample - loss: 0.0974 - acc: 0.0000e+00 - val_loss: 0.1095 - val_acc: 0.0000e+00\n",
            "Epoch 181/200\n",
            "80/80 [==============================] - 0s 871us/sample - loss: 0.0974 - acc: 0.0000e+00 - val_loss: 0.1096 - val_acc: 0.0000e+00\n",
            "Epoch 182/200\n",
            "80/80 [==============================] - 0s 1000us/sample - loss: 0.0974 - acc: 0.0000e+00 - val_loss: 0.1098 - val_acc: 0.0000e+00\n",
            "Epoch 183/200\n",
            "80/80 [==============================] - 0s 1ms/sample - loss: 0.0974 - acc: 0.0000e+00 - val_loss: 0.1100 - val_acc: 0.0000e+00\n",
            "Epoch 184/200\n",
            "80/80 [==============================] - 0s 851us/sample - loss: 0.0974 - acc: 0.0000e+00 - val_loss: 0.1100 - val_acc: 0.0000e+00\n",
            "Epoch 185/200\n",
            "80/80 [==============================] - 0s 862us/sample - loss: 0.0973 - acc: 0.0000e+00 - val_loss: 0.1099 - val_acc: 0.0000e+00\n",
            "Epoch 186/200\n",
            "80/80 [==============================] - 0s 915us/sample - loss: 0.0973 - acc: 0.0000e+00 - val_loss: 0.1098 - val_acc: 0.0000e+00\n",
            "Epoch 187/200\n",
            "80/80 [==============================] - 0s 862us/sample - loss: 0.0973 - acc: 0.0000e+00 - val_loss: 0.1095 - val_acc: 0.0000e+00\n",
            "Epoch 188/200\n",
            "80/80 [==============================] - 0s 877us/sample - loss: 0.0973 - acc: 0.0000e+00 - val_loss: 0.1093 - val_acc: 0.0000e+00\n",
            "Epoch 189/200\n",
            "80/80 [==============================] - 0s 824us/sample - loss: 0.0972 - acc: 0.0000e+00 - val_loss: 0.1090 - val_acc: 0.0000e+00\n",
            "Epoch 190/200\n",
            "80/80 [==============================] - 0s 806us/sample - loss: 0.0972 - acc: 0.0000e+00 - val_loss: 0.1086 - val_acc: 0.0000e+00\n",
            "Epoch 191/200\n",
            "80/80 [==============================] - 0s 859us/sample - loss: 0.0972 - acc: 0.0000e+00 - val_loss: 0.1084 - val_acc: 0.0000e+00\n",
            "Epoch 192/200\n",
            "80/80 [==============================] - 0s 910us/sample - loss: 0.0972 - acc: 0.0000e+00 - val_loss: 0.1082 - val_acc: 0.0000e+00\n",
            "Epoch 193/200\n",
            "80/80 [==============================] - 0s 886us/sample - loss: 0.0971 - acc: 0.0000e+00 - val_loss: 0.1082 - val_acc: 0.0000e+00\n",
            "Epoch 194/200\n",
            "80/80 [==============================] - 0s 1ms/sample - loss: 0.0971 - acc: 0.0000e+00 - val_loss: 0.1080 - val_acc: 0.0000e+00\n",
            "Epoch 195/200\n",
            "80/80 [==============================] - 0s 885us/sample - loss: 0.0971 - acc: 0.0000e+00 - val_loss: 0.1078 - val_acc: 0.0000e+00\n",
            "Epoch 196/200\n",
            "80/80 [==============================] - 0s 842us/sample - loss: 0.0971 - acc: 0.0000e+00 - val_loss: 0.1076 - val_acc: 0.0000e+00\n",
            "Epoch 197/200\n",
            "80/80 [==============================] - 0s 991us/sample - loss: 0.0971 - acc: 0.0000e+00 - val_loss: 0.1073 - val_acc: 0.0000e+00\n",
            "Epoch 198/200\n",
            "80/80 [==============================] - 0s 909us/sample - loss: 0.0970 - acc: 0.0000e+00 - val_loss: 0.1072 - val_acc: 0.0000e+00\n",
            "Epoch 199/200\n",
            "80/80 [==============================] - 0s 815us/sample - loss: 0.0970 - acc: 0.0000e+00 - val_loss: 0.1071 - val_acc: 0.0000e+00\n",
            "Epoch 200/200\n",
            "80/80 [==============================] - 0s 868us/sample - loss: 0.0970 - acc: 0.0000e+00 - val_loss: 0.1070 - val_acc: 0.0000e+00\n"
          ],
          "name": "stdout"
        }
      ]
    },
    {
      "cell_type": "code",
      "metadata": {
        "id": "OMklYnLl7ZDD",
        "colab_type": "code",
        "colab": {}
      },
      "source": [
        "result = model.predict(x_test)"
      ],
      "execution_count": 0,
      "outputs": []
    },
    {
      "cell_type": "code",
      "metadata": {
        "id": "DXAQsEpj6jo0",
        "colab_type": "code",
        "colab": {
          "base_uri": "https://localhost:8080/",
          "height": 283
        },
        "outputId": "f79cebe3-cd6f-46d3-9d67-16a3aecb73fa"
      },
      "source": [
        "plt.scatter(range(20),result,c=\"r\")\n",
        "plt.scatter(range(20),y_test,c=\"g\")"
      ],
      "execution_count": 15,
      "outputs": [
        {
          "output_type": "execute_result",
          "data": {
            "text/plain": [
              "<matplotlib.collections.PathCollection at 0x7f56d004f4e0>"
            ]
          },
          "metadata": {
            "tags": []
          },
          "execution_count": 15
        },
        {
          "output_type": "display_data",
          "data": {
            "image/png": "[encoded data removed]",
            "text/plain": [
              "<Figure size 432x288 with 1 Axes>"
            ]
          },
          "metadata": {
            "tags": []
          }
        }
      ]
    },
    {
      "cell_type": "code",
      "metadata": {
        "id": "EBxkFrck7WHf",
        "colab_type": "code",
        "colab": {
          "base_uri": "https://localhost:8080/",
          "height": 265
        },
        "outputId": "949b1dd8-770a-4328-cade-c77e4f60608f"
      },
      "source": [
        "plt.plot(history.history[\"loss\"])\n",
        "plt.show()"
      ],
      "execution_count": 16,
      "outputs": [
        {
          "output_type": "display_data",
          "data": {
            "image/png": "[encoded data removed]",
            "text/plain": [
              "<Figure size 432x288 with 1 Axes>"
            ]
          },
          "metadata": {
            "tags": []
          }
        }
      ]
    },
    {
      "cell_type": "code",
      "metadata": {
        "id": "J_9umwu_8B0A",
        "colab_type": "code",
        "colab": {}
      },
      "source": [
        ""
      ],
      "execution_count": 0,
      "outputs": []
    }
  ]
}